{
 "cells": [
  {
   "cell_type": "markdown",
   "id": "1443e017",
   "metadata": {},
   "source": [
    "---"
   ]
  },
  {
   "cell_type": "markdown",
   "id": "d15d6e61",
   "metadata": {},
   "source": [
    "<img src=\"https://github.com/Lionel-Helin-Oza/Images_Notebook/blob/main/NSI-Image.png?raw=true\" alt=\"drawing\" width=\"350\">"
   ]
  },
  {
   "cell_type": "markdown",
   "id": "aff477f4",
   "metadata": {},
   "source": [
    "# TP2.3 - Les Arbres - Implémentation des arbres binaires\n",
    "\n",
    "Durée de l'activité proposé : 4h"
   ]
  },
  {
   "cell_type": "markdown",
   "id": "d3651f9a",
   "metadata": {},
   "source": [
    "<img src=\"https://github.com/Lionel-Helin-Oza/TP2.3-Les-Arbres-Impl-mentation-/blob/main/Image1.png?raw=true\" width=\"350\">"
   ]
  },
  {
   "cell_type": "markdown",
   "id": "5032505f",
   "metadata": {},
   "source": [
    "---"
   ]
  },
  {
   "cell_type": "markdown",
   "id": "746a3eef",
   "metadata": {},
   "source": [
    "\n",
    "## Rappel de Cours : c’est quoi un arbre ?\n"
   ]
  },
  {
   "cell_type": "markdown",
   "id": "9f2c3b8b",
   "metadata": {},
   "source": [
    "---"
   ]
  },
  {
   "cell_type": "markdown",
   "id": "57a1ad2c",
   "metadata": {},
   "source": [
    "## <span style='color:Red'> *1- Quelques généralités*   \n",
    "\n",
    "\n",
    "Les arbres sont des types abstraits très utilisés en informatique, notamment quand on a besoin d’une structure hiérarchique des données. \n",
    "\n",
    "*Exemples :*\n",
    "\n",
    "- arborescence des fichiers et dossiers dans les systèmes de fichiers des OS,\n",
    "\n",
    "- expressions arithmétiques : elles peuvent être représentées par des arbres étiquetés par des opérateurs, des constantes et des variables. La structure de l’arbre rend compte de la priorité des opérateurs et rend inutile tout parenthésage.\n",
    "\n",
    "- Théorie des jeux : certaines stratégies nécessitent l’exploration (partielle) d’arbres de jeu (voir morpion ou puissance 4)\n",
    "\n",
    "La **terminologie** est ici très importante : racine, feuille, nœud, père, fils, hauteur, taille… \n",
    "Reportez vous à votre cours pour bien comprendre ces notions, qui sont à assimiler avant de comprendre comment implémenter cette nouvelle structure de donnée dans un langage de programmation. \n",
    "\n",
    "\n"
   ]
  },
  {
   "cell_type": "markdown",
   "id": "1a0e8bd3",
   "metadata": {},
   "source": [
    "## <span style='color:Red'> *2- Les arbres binaires*   \n",
    "    \n",
    "L’étude de ces structures de données, en apparence assez simple, peut vite devenir complexe. Nous allons nous intéresser aux **Arbres Binaires** : ces arbres sont des cas particuliers d’arbres où chaque nœud possède au maximum deux fils (définition à savoir…). \n",
    "\n",
    "Attention, les fils d’un nœud sont classés : un fils droit et/ou un fils gauche. Ils ne sont pas intervertibles !\n",
    "\n",
    "On distingue plusieurs types d’arbre binaire :\n",
    "\n",
    "+ Un arbre binaire **filiforme** ou dégénéré est un arbre dans lequel tous les nœuds internes n’ont qu’un seul fils. (Un arbre filiforme ne possède donc qu’une unique feuille.)\n",
    "    "
   ]
  },
  {
   "cell_type": "markdown",
   "id": "3c0ebf1f",
   "metadata": {},
   "source": [
    "<img src=\"https://github.com/Lionel-Helin-Oza/TP2.3-Les-Arbres-Impl-mentation-/blob/main/Image2.png?raw=true\" width=\"150\">"
   ]
  },
  {
   "cell_type": "markdown",
   "id": "3c5c429e",
   "metadata": {},
   "source": [
    "+ Un arbre binaire **localement complet** ou arbre binaire strict est un arbre dont tous les nœuds internes possèdent exactement deux fils. \n",
    "(Autrement dit, un arbre binaire localement complet est un arbre dont chaque nœud possède zéro ou 2 fils. L’arbre vide n’est pas localement complet.)\n"
   ]
  },
  {
   "cell_type": "markdown",
   "id": "a41bbc0d",
   "metadata": {},
   "source": [
    "<img src=\"https://github.com/Lionel-Helin-Oza/TP2.3-Les-Arbres-Impl-mentation-/blob/main/Image3.png?raw=true\" width=\"200\">"
   ]
  },
  {
   "cell_type": "markdown",
   "id": "07e7b483",
   "metadata": {},
   "source": [
    "+ Un arbre binaire **complet** est un arbre binaire localement complet dans lequel toutes les feuilles sont à la même profondeur. (Il s’agit d’un arbre dont tous les niveaux sont remplis.)"
   ]
  },
  {
   "cell_type": "markdown",
   "id": "74d3ce14",
   "metadata": {},
   "source": [
    "<img src=\"https://github.com/Lionel-Helin-Oza/TP2.3-Les-Arbres-Impl-mentation-/blob/main/Image4.png?raw=true\" width=\"300\">"
   ]
  },
  {
   "cell_type": "markdown",
   "id": "37ea181c",
   "metadata": {},
   "source": [
    "+ Un arbre binaire **parfait** est un arbre dans lequel tous les niveaux sont remplis à l’exception éventuelle du dernier, et dans ce cas les feuilles du dernier niveau sont alignées à gauche."
   ]
  },
  {
   "cell_type": "markdown",
   "id": "13afa228",
   "metadata": {},
   "source": [
    "<img src=\"https://github.com/Lionel-Helin-Oza/TP2.3-Les-Arbres-Impl-mentation-/blob/main/Image5.png?raw=true\" width=\"350\">"
   ]
  },
  {
   "cell_type": "markdown",
   "id": "151b4c02",
   "metadata": {},
   "source": [
    "+ Différence entre arbre binaire et **arbre binaire de recherche**.\n",
    "\n",
    "Un arbre de recherche binaire est un type de structure de données d'arbre binaire dans lequel les nœuds sont rangés dans l'ordre, d'où le nom de «arbre binaire ordonné». \n",
    "\n",
    "C'est une structure de données basée sur des nœuds qui fournit un moyen efficace et rapide de trier, de récupérer et de rechercher des données. Pour chaque nœud, les éléments du sous-arbre de gauche doivent être inférieurs ou égaux à la clé de son nœud parent (LP). Il ne devrait y avoir aucune clé en double. **En termes simples, il s'agit d'un type particulier de structure de données d'arborescence binaire qui stocke et gère efficacement les éléments en mémoire..**\n",
    "\n",
    "*Exemple d’arbre binaire de recherche :*\n"
   ]
  },
  {
   "cell_type": "markdown",
   "id": "9689cab2",
   "metadata": {},
   "source": [
    "<img src=\"https://github.com/Lionel-Helin-Oza/TP2.3-Les-Arbres-Impl-mentation-/blob/main/Image6.png?raw=true\" width=\"300\">"
   ]
  },
  {
   "cell_type": "markdown",
   "id": "48098c62",
   "metadata": {},
   "source": [
    "## <span style='color:Red'> *3- Comment implémenter un arbre binaire avec Python ?*   "
   ]
  },
  {
   "cell_type": "markdown",
   "id": "7b3138e9",
   "metadata": {},
   "source": [
    "Nous avons vu plusieurs « outils » ou structure de données nous permettant d’utiliser ce type de données. Par exemple, nous pouvons imaginer qu’un arbre est un **dictionnaire** dans lequel chaque clé représente un nœud de l’arbre, et chaque valeur associée à ces clefs représente les fils gauche et droit du nœud. Cette implémentation vous a été présenté en cours.\n",
    "\n",
    "Mais nous avons maintenant un autre « outil » nous permettant de créer n’importe quel objet : **la programmation orientée objet (POO)**. Voyons comment. \n",
    "\n",
    "De plus si on regarde de plus prés un arbre, on peut voir que le fils de chaque nœud est lui-même la racine d’un arbre. Autrement dit, un arbre est composé d’arbres. On a donc une sorte de récursivité dans l’implémentation des arbres.\n",
    "\n",
    "Nous allons donc manipuler deux paradigmes dans ce chapitre :\n",
    "- le paradigme « programmation orientée objet »\n",
    "- le paradigme « programmation récursive ».\n",
    "\n",
    "De quoi avons-nous besoin dans chaque élément de cet arbre, dans chaque noeud. Après une intense réflexion, nous pouvons dire que pour des arbres binaires, il nous faut :\n",
    "\n",
    "+ Un espace pour stocker une donnée \n",
    "+ Un connecteur pour \"associer\" un fils gauche\n",
    "+ Un connecteur pour \"associer\" un fils droit\n",
    "\n",
    "Ainsi notre classe arbre contiendra 3 variables (appelées attributs lorsqu'elles sont intégrées à une classe). En ce qui concerne les noms de ces 3 attributs, nous les appellerons contenu, filsGauche et filsDroit. \n",
    "En ce qui concerne l'initialisation des ces attributs, nous mettrons :\n",
    "+ contenu à 0\n",
    "+ filsGauche et filsDroit à None car il n'y aura pas de fils lors de la création.\n",
    "\n",
    "Voici donc l'implémentation de notre classe :\n"
   ]
  },
  {
   "cell_type": "code",
   "execution_count": 1,
   "id": "c29774cb",
   "metadata": {},
   "outputs": [],
   "source": [
    "class ArbreBinaire:\n",
    "  def __init__(self, valeur):   \n",
    "        self.contenu = valeur \n",
    "        self.filsGauche = None        \n",
    "        self.filsDroit = None \n"
   ]
  },
  {
   "cell_type": "markdown",
   "id": "1451db39",
   "metadata": {},
   "source": [
    "---"
   ]
  },
  {
   "cell_type": "markdown",
   "id": "bda4d361",
   "metadata": {},
   "source": [
    "\n",
    "## Exercices"
   ]
  },
  {
   "cell_type": "markdown",
   "id": "987d0c92",
   "metadata": {},
   "source": [
    "A partir de cette définition, nous allons vous demander d'écrire certaine méthode ou fonction nous permettant de manipuler les arbres binaires.\n",
    "\n",
    "**Pour chacun des exercices suivants, n'oubliez pas :**\n",
    "\n",
    "PS 1 : Tout se qui peut aider à la compréhension d’un programme (commentaire) est le bienvenue.\n",
    "\n",
    "PS 2 : Merci de laisser dans votre programme ce qui vous a permis de le tester et de le valider , même sous forme de commentaire (création des objets et test avec print par exemple)   \n"
   ]
  },
  {
   "cell_type": "markdown",
   "id": "c8a38d5c",
   "metadata": {},
   "source": [
    "---"
   ]
  },
  {
   "cell_type": "markdown",
   "id": "1ad3ad28",
   "metadata": {},
   "source": [
    "### Exercice 1 (Ajout de fils) \n",
    "\n",
    "On considère la définition de la classe définie précédemment. \n",
    "\n",
    "Maintenant de quoi avons-nous besoin comme fonctionnalités ? Assez rapidement nous trouvons au minimum\n",
    "\n",
    "•\t Une méthode permettant d’ajouter un fils gauche\n",
    "•\t Une méthode permettant d’ajouter un fils droit\n",
    "\n",
    "Chacune de ces 2 méthodes créera un nouvel ArbreBinaire, et le stockera dans la donnée correspondante (filsGauche ou filsDroit). En outre, nous avons besoin de la valeur du contenu à donner à ce fils. \n",
    "Ces 2 méthodes s'appellerons donc ajoutFilsGauche() et ajoutFilsDroit()\n",
    "\n",
    "Attention : lors de la création d'un fils (gauche ou droit) il faut vérifier qu'il n'y en ait pas déjà un ! Auquel il serait détruit (et donc tout le sous-arbre dont il est racine)\n",
    "\n",
    "Dans le cas où il y aurait déjà un fils, on ne vas s'embêter, on va tout simplement lui \"déléguer\" la mission d'ajout. Ainsi, c'est la magie de la récursivité, on peut demander une insertion sur un nœud, et qu'au final cela aboutisse à la création d'un fils bien plus bas dans l'arbre. \n",
    "\n"
   ]
  },
  {
   "cell_type": "markdown",
   "id": "485b9c81",
   "metadata": {},
   "source": [
    "***Compléter la définition ci-dessous de la classe ArbreBinaire avec les deux méthodes :*** \n",
    "+ ajoutFilsGauche()\n",
    "\n",
    "+ ajoutFilsDroit()\n"
   ]
  },
  {
   "cell_type": "code",
   "execution_count": 3,
   "id": "ac01d34b",
   "metadata": {
    "scrolled": true
   },
   "outputs": [],
   "source": [
    "class ArbreBinaire:\n",
    "  def __init__(self, valeur):   \n",
    "        self.contenu = valeur \n",
    "        self.filsGauche = None        \n",
    "        self.filsDroit = None \n",
    "\n",
    "\n",
    "  def ajoutFilsGauche(self, valeur):\n",
    "      if self.filsGauche == None:\n",
    "        self.filsGauche = ArbreBinaire(valeur)  \n",
    "      else :\n",
    "        self.filsGauche.ajoutFilsGauche(valeur)\n",
    "\n",
    "  def ajoutFilsDroit(self, valeur):\n",
    "      if self.filsDroit == None:\n",
    "         self.filsDroit = ArbreBinaire(valeur)\n",
    "      else :\n",
    "         self.filsDroit.ajoutFilsDroit(valeur)\n",
    "        \n",
    "\n"
   ]
  },
  {
   "cell_type": "markdown",
   "id": "34f975ed",
   "metadata": {},
   "source": [
    "---"
   ]
  },
  {
   "cell_type": "markdown",
   "id": "9529444f",
   "metadata": {},
   "source": [
    "### Exercice 2 (Affichage) \n",
    "\n",
    "\n",
    "Maintenant que nous avons créé notre objet, il est quand même intéressant de mettre en place une méthode pour afficher cette arbre. Pour cela, nous mettrons en place la méthode `def __str__(self):`\n",
    "\n",
    "***Définir cette méthode et compléter la classe ArbreBinaire avec celle-ci***\n",
    "\n",
    "*Exemple d’affichage :* "
   ]
  },
  {
   "cell_type": "code",
   "execution_count": 3,
   "id": "76295eff",
   "metadata": {},
   "outputs": [
    {
     "name": "stdout",
     "output_type": "stream",
     "text": [
      "<__main__.ArbreBinaire object at 0x7faa214e7460>\n"
     ]
    }
   ],
   "source": [
    "# Je crée un arbre qui contient la valeur 10\n",
    "monArbre = ArbreBinaire(10)\n",
    "print(monArbre)\n",
    "\n",
    "# affiche : [ Contenu : 10 / Fils Gauche : None / Fils Droit : None ] \n"
   ]
  },
  {
   "cell_type": "markdown",
   "id": "44e3ef0c",
   "metadata": {},
   "source": [
    "***Votre réponse ci-dessous :***"
   ]
  },
  {
   "cell_type": "code",
   "execution_count": 47,
   "id": "b2392051",
   "metadata": {
    "is_executing": true
   },
   "outputs": [
    {
     "name": "stdout",
     "output_type": "stream",
     "text": [
      "[Contenu : A | Fils droit : [Contenu : D | Fils droit : None | Fils gauche : None] /  | Fils gauche : [Contenu : G | Fils droit : None | Fils gauche : None] / ] / \n"
     ]
    }
   ],
   "source": [
    "# Votre réponse ci-dessous :\n",
    "\n",
    "# méthode à rajouter à l'ensemble de la classe - copier coller l'écriture de la classe de la question précédente\n",
    "\n",
    "#COPIE DE LA QUESTION PRÉCÉDENTE\n",
    "class ArbreBinaire:\n",
    "   def __init__(self, valeur):   \n",
    "        self.contenu = valeur \n",
    "        self.filsGauche = None        \n",
    "        self.filsDroit = None \n",
    "\n",
    "\n",
    "   def ajoutFilsGauche(self, valeur):\n",
    "      if self.filsGauche == None:\n",
    "         self.filsGauche = ArbreBinaire(valeur)  \n",
    "      else :\n",
    "        self.filsGauche.ajoutFilsGauche(valeur)\n",
    "\n",
    "   def ajoutFilsDroit(self, valeur):\n",
    "      if self.filsDroit == None:\n",
    "         self.filsDroit = ArbreBinaire(valeur)\n",
    "      else :\n",
    "         self.filsDroit.ajoutFilsDroit(valeur)\n",
    "        \n",
    "#FIN DE LA COPIE\n",
    "\n",
    "\n",
    "   def __str__(self):\n",
    "     return f\"[Contenu : {self.contenu} | Fils droit : {self.filsDroit.__str__()} | Fils gauche : {self.filsGauche.__str__()}] / \"\n",
    "buisson = ArbreBinaire(\"A\")\n",
    "buisson.ajoutFilsGauche('G')\n",
    "buisson.ajoutFilsDroit('D')\n",
    "\n",
    "print(buisson)"
   ]
  },
  {
   "cell_type": "markdown",
   "id": "e68c6656",
   "metadata": {},
   "source": [
    "---"
   ]
  },
  {
   "cell_type": "markdown",
   "id": "833e755f",
   "metadata": {},
   "source": [
    "### Exercice 3 (Ajout d’un contenu) "
   ]
  },
  {
   "cell_type": "markdown",
   "id": "a92a575b",
   "metadata": {},
   "source": [
    "\n",
    "Nous allons nous intéresser aux arbres binaires de recherche (voir ci-dessus). Ils permettent de stocker des nombres en maintenant une organisation précise. Nous pouvons ajouter des valeurs à un arbre.  \n",
    "\n",
    "Voici le fonctionnement attendu : \n",
    "\n",
    "Lorsque l'on ajoute une nouvelle valeur à l'arbre, par sa racine, voici ce qu'il fait :\n",
    "\n",
    "+ Si le nœud courant contient la valeur à stocker, c'est que c'est un doublon...On sort en considérant le travail comme effectué.\n",
    "+ Sinon, si la valeur à stoker est < à la valeur stockée alors si pas de fils gauche, on crée un fils gauche contenant cette valeur, ou on relance l'ajout de la donnée à stocker sur le fils gauche s'il existe \n",
    "+ Sinon, si la valeur à stoker est > à la valeur stockée : alors : si pas de fils droit, on crée un fils droit contenant cette valeur, ou on relance l'ajout de la donnée à stocker sur le fils droit s'il existe.\n",
    "\n",
    "***Définir la méthode ajoutContenu(self,valeur) :***\n"
   ]
  },
  {
   "cell_type": "markdown",
   "id": "10d50ce4",
   "metadata": {},
   "source": [
    "Vous pourrez tester la définition de votre objet avec les affichages suivants : \n",
    "\n",
    "+ Je crée un arbre qui contient la valeur 10\n",
    "\n",
    "`monArbre = ArbreBinaire(10)`\n",
    "\n",
    "`print(monArbre)`  \n",
    "\n",
    "Résultat : [ Contenu : 10 / Fils Gauche : None / Fils Droit : None ] \n",
    "\n",
    "\n",
    "+ J'ajoute la valeur 5... Elle devrait être confiée au fils gauche\n",
    "\n",
    "`monArbre.ajoutContenu(5)`\n",
    "\n",
    "`print(monArbre)`\n",
    "\n",
    "Résultat : [ Contenu : 10 / Fils Gauche : [ Contenu : 5 / Fils Gauche : None / Fils Droit : None ] / Fils Droit : None ] \n",
    "\n",
    "\n",
    "+ J'ajoute la valeur 7... Elle devrait être confiée au fils droit, du fils gauche (plus petit que 10 donc gauche mais plus grand que 5 donc petit fils droit)\n",
    "\n",
    "`monArbre.ajoutContenu(7)`\n",
    "\n",
    "`print(monArbre)`\n",
    "\n",
    "Résultat : [ Contenu : 10 / Fils Gauche : [ Contenu : 5 / Fils Gauche : None / Fils Droit : [ Contenu : 7 / Fils Gauche : None / Fils Droit : None ] ] / Fils Droit : None ] \n",
    "\n",
    "\n",
    "+ J'ajoute à nouveau le 5... Ca ne devrait rien changer\n",
    "\n",
    "`monArbre.ajoutContenu(5)`\n",
    "\n",
    "`print(monArbre)`\n",
    "\n",
    "Résultat : [ Contenu : 10 / Fils Gauche : [ Contenu : 5 / Fils Gauche : None / Fils Droit : [ Contenu : 7 / Fils Gauche : None / Fils Droit : None ] ] / Fils Droit : None ] \n",
    "\n",
    "\n",
    "+ J'ajoute la valeur 12... Ca devrait créer un fils droit\n",
    "\n",
    "`monArbre.ajoutContenu(12)`\n",
    "\n",
    "`print(monArbre)`\n",
    "\n",
    "Résultat : [ Contenu : 10 / Fils Gauche : [ Contenu : 5 / Fils Gauche : None / Fils Droit : [ Contenu : 7 / Fils Gauche : None / Fils Droit : None ] ] / Fils Droit : [ Contenu : 12 / Fils Gauche : None / Fils Droit : None ] ] \n",
    "\n"
   ]
  },
  {
   "cell_type": "markdown",
   "id": "c1ed91d7",
   "metadata": {},
   "source": [
    "***Votre réponse ci-dessous :***"
   ]
  },
  {
   "cell_type": "code",
   "execution_count": 1,
   "id": "7d3dde24",
   "metadata": {},
   "outputs": [
    {
     "name": "stdout",
     "output_type": "stream",
     "text": [
      "[Contenu : 10 | Fils droit : [Contenu : 12 | Fils droit : None | Fils gauche : [Contenu : 11 | Fils droit : None | Fils gauche : None] / ] /  | Fils gauche : [Contenu : 7 | Fils droit : None | Fils gauche : [Contenu : 5 | Fils droit : None | Fils gauche : [Contenu : 3 | Fils droit : None | Fils gauche : None] / ] / ] / ] / \n"
     ]
    }
   ],
   "source": [
    "# Votre réponse ci-dessous :\n",
    "\n",
    "# méthode à rajouter à l'ensemble de la classe - copier coller l'écriture de la classe de la question précédente\n",
    "\n",
    "class ArbreBinaire:\n",
    "    def __init__(self, valeur):\n",
    "        self.contenu = valeur\n",
    "        self.filsGauche = None\n",
    "        self.filsDroit = None\n",
    "    \n",
    "    def ajoutFilsGauche(self, valeur):\n",
    "      if self.filsGauche is None:\n",
    "         self.filsGauche = ArbreBinaire(valeur)  \n",
    "      else :\n",
    "        self.filsGauche.ajoutFilsGauche(valeur)\n",
    "\n",
    "    def ajoutFilsDroit(self, valeur):\n",
    "        if self.filsDroit is None:\n",
    "          self.filsDroit = ArbreBinaire(valeur)\n",
    "        else :\n",
    "         self.filsDroit.ajoutFilsDroit(valeur)\n",
    "    \n",
    "    def ajoutContenu(self, valeur):\n",
    "        if valeur > self.contenu:\n",
    "          if self.filsDroit is None:\n",
    "            self.ajoutFilsDroit(valeur)\n",
    "          else:\n",
    "            self.filsDroit.ajoutContenu(valeur)\n",
    "        \n",
    "        elif valeur < self.contenu:\n",
    "          if self.filsGauche is None:\n",
    "           self.ajoutFilsGauche(valeur)\n",
    "          else:\n",
    "            self.filsGauche.ajoutContenu(valeur)\n",
    "\n",
    "    \n",
    "    def __str__(self):\n",
    "     return f\"[Contenu : {self.contenu} | Fils droit : {self.filsDroit.__str__()} | Fils gauche : {self.filsGauche.__str__()}] / \"\n",
    "\n",
    "buisson = ArbreBinaire(10)\n",
    "\n",
    "buisson.ajoutContenu(12)\n",
    "buisson.ajoutContenu(7)\n",
    "buisson.ajoutContenu(5)\n",
    "buisson.ajoutContenu(11)\n",
    "buisson.ajoutContenu(3)\n",
    "\n",
    "\n",
    "print(buisson)"
   ]
  },
  {
   "cell_type": "markdown",
   "id": "7202a1db",
   "metadata": {},
   "source": [
    "---"
   ]
  },
  {
   "cell_type": "markdown",
   "id": "c4dd0698",
   "metadata": {},
   "source": [
    "### Exercice 4 (Calcul de la taille d’un arbre) "
   ]
  },
  {
   "cell_type": "markdown",
   "id": "a3658865",
   "metadata": {},
   "source": [
    "**1 - Écrire une fonction ` def taille(arbre)` permettant de donner la taille d’un arbre binaire.** Utilisez la récursivité. \n",
    "\n",
    "*Rappel : la taille d’un arbre est le nombre de nœuds de cette arbre.*\n",
    "\n",
    "Un peu d’aide : Pour calculer la hauteur d’un arbre, nous pouvons utilisez l’algorithme suivant : \n",
    "+ Si il y a un fils Gauche, on relance la fonction taille sur le sous-arbre Gauche (récursion) pour récupérer sa taille\n",
    "+ Si il y a un fils Droit, on relance la fonction taille sur le sous-arbre Droit (récursion) pour récupérer sa taille\n",
    "+ Retourner la somme des tailles des sous-arbres (si il existent) + 1 (taille du nœud courant)\n"
   ]
  },
  {
   "cell_type": "markdown",
   "id": "958b1c60",
   "metadata": {},
   "source": [
    "***Votre réponse ci-dessous :***"
   ]
  },
  {
   "cell_type": "code",
   "execution_count": 16,
   "id": "06739442",
   "metadata": {},
   "outputs": [],
   "source": [
    "# Votre réponse ci-dessous :\n",
    "\n",
    "def taille(arbre):\n",
    "    if arbre is None:\n",
    "        return 0\n",
    "    else:\n",
    "        #noeud actuel + récursivité en vérifiant séparément le côté gauche et droit de l'arbre\n",
    "        taille_gauche = arbre.filsGauche.taille() if arbre.filsGauche is not None else 0\n",
    "        taille_droit = arbre.filsDroit.taille() if arbre.filsDroit is not None else 0\n",
    "        return 1 + taille_gauche + taille_droit\n",
    "    \n"
   ]
  },
  {
   "cell_type": "markdown",
   "id": "c9dda9a1",
   "metadata": {},
   "source": [
    "**2 - Créer l’arbre ci-dessous (exemple d’arbre donné sur Wikipédia) à l’aide de la classe ArbreBinaire**\n"
   ]
  },
  {
   "cell_type": "markdown",
   "id": "ca46193f",
   "metadata": {},
   "source": [
    "<img src=\"https://github.com/Lionel-Helin-Oza/TP2.3-Les-Arbres-Impl-mentation-/blob/main/Image7.png?raw=true\" width=\"300\">"
   ]
  },
  {
   "cell_type": "code",
   "execution_count": 17,
   "id": "83f1438b",
   "metadata": {},
   "outputs": [
    {
     "name": "stdout",
     "output_type": "stream",
     "text": [
      "[Contenu : 8 | Fils droit : [Contenu : 10 | Fils droit : [Contenu : 14 | Fils droit : None | Fils gauche : [Contenu : 13 | Fils droit : None | Fils gauche : None] / ] /  | Fils gauche : None] /  | Fils gauche : [Contenu : 3 | Fils droit : [Contenu : 6 | Fils droit : [Contenu : 7 | Fils droit : None | Fils gauche : None] /  | Fils gauche : [Contenu : 4 | Fils droit : None | Fils gauche : None] / ] /  | Fils gauche : [Contenu : 1 | Fils droit : None | Fils gauche : None] / ] / ] / \n"
     ]
    }
   ],
   "source": [
    "# Votre réponse ci-dessous (création de l'arbre):\n",
    "\n",
    "#COPIE EXERCICE 3\n",
    "class ArbreBinaire:\n",
    "    def __init__(self, valeur):\n",
    "        self.contenu = valeur\n",
    "        self.filsGauche = None\n",
    "        self.filsDroit = None\n",
    "    \n",
    "    def ajoutFilsGauche(self, valeur):\n",
    "      if self.filsGauche is None:\n",
    "         self.filsGauche = ArbreBinaire(valeur)  \n",
    "      else :\n",
    "        self.filsGauche.ajoutFilsGauche(valeur)\n",
    "\n",
    "    def ajoutFilsDroit(self, valeur):\n",
    "        if self.filsDroit is None:\n",
    "          self.filsDroit = ArbreBinaire(valeur)\n",
    "        else :\n",
    "         self.filsDroit.ajoutFilsDroit(valeur)\n",
    "    \n",
    "    def ajoutContenu(self, valeur):\n",
    "        if valeur > self.contenu:\n",
    "          if self.filsDroit is None:\n",
    "            self.ajoutFilsDroit(valeur)\n",
    "          else:\n",
    "            self.filsDroit.ajoutContenu(valeur)\n",
    "        \n",
    "        elif valeur < self.contenu:\n",
    "          if self.filsGauche is None:\n",
    "           self.ajoutFilsGauche(valeur)\n",
    "          else:\n",
    "            self.filsGauche.ajoutContenu(valeur)\n",
    "    \n",
    "    def __str__(self):\n",
    "     return f\"[Contenu : {self.contenu} | Fils droit : {self.filsDroit.__str__()} | Fils gauche : {self.filsGauche.__str__()}] / \"\n",
    "\n",
    "#FIN DE LA COPIE\n",
    "\n",
    "tree = ArbreBinaire(8)\n",
    "\n",
    "tree.ajoutContenu(3)\n",
    "tree.ajoutContenu(1)\n",
    "tree.ajoutContenu(6)\n",
    "tree.ajoutContenu(4)\n",
    "tree.ajoutContenu(7)\n",
    "\n",
    "tree.ajoutContenu(10)\n",
    "tree.ajoutContenu(14)\n",
    "tree.ajoutContenu(13)\n",
    "\n",
    "print(tree)"
   ]
  },
  {
   "cell_type": "markdown",
   "id": "f22e73e4",
   "metadata": {},
   "source": [
    "**3 - Tester votre fonction sur celui-ci**  Vous devriez trouver 9 comme réponse ( = au nombre de nœuds)."
   ]
  },
  {
   "cell_type": "code",
   "execution_count": 18,
   "id": "d93f5bf4",
   "metadata": {},
   "outputs": [
    {
     "name": "stdout",
     "output_type": "stream",
     "text": [
      "9\n"
     ]
    }
   ],
   "source": [
    "# Votre réponse ci-dessous (test de la fonction):\n",
    "\n",
    "class ArbreBinaire:\n",
    "    def __init__(self, valeur):\n",
    "        self.contenu = valeur\n",
    "        self.filsGauche = None\n",
    "        self.filsDroit = None\n",
    "    \n",
    "    def ajoutFilsGauche(self, valeur):\n",
    "      if self.filsGauche is None:\n",
    "         self.filsGauche = ArbreBinaire(valeur)  \n",
    "      else :\n",
    "        self.filsGauche.ajoutFilsGauche(valeur)\n",
    "\n",
    "    def ajoutFilsDroit(self, valeur):\n",
    "        if self.filsDroit is None:\n",
    "          self.filsDroit = ArbreBinaire(valeur)\n",
    "        else :\n",
    "         self.filsDroit.ajoutFilsDroit(valeur)\n",
    "    \n",
    "    def ajoutContenu(self, valeur):\n",
    "        if valeur > self.contenu:\n",
    "          if self.filsDroit is None:\n",
    "            self.ajoutFilsDroit(valeur)\n",
    "          else:\n",
    "            self.filsDroit.ajoutContenu(valeur)\n",
    "        \n",
    "        elif valeur < self.contenu:\n",
    "          if self.filsGauche is None:\n",
    "           self.ajoutFilsGauche(valeur)\n",
    "          else:\n",
    "            self.filsGauche.ajoutContenu(valeur)\n",
    "    \n",
    "    def taille(self):\n",
    "      if self is None:\n",
    "          return 0\n",
    "      else:\n",
    "          #noeud actuel + récursivité\n",
    "          taille_gauche = self.filsGauche.taille() if self.filsGauche is not None else 0\n",
    "          taille_droit = self.filsDroit.taille() if self.filsDroit is not None else 0\n",
    "          return 1 + taille_gauche + taille_droit\n",
    "            \n",
    "    def __str__(self):\n",
    "     return f\"[Contenu : {self.contenu} | Fils droit : {self.filsDroit.__str__()} | Fils gauche : {self.filsGauche.__str__()}] / \"\n",
    "\n",
    "\n",
    "tree = ArbreBinaire(8)\n",
    "\n",
    "tree.ajoutContenu(3)\n",
    "tree.ajoutContenu(1)\n",
    "tree.ajoutContenu(6)\n",
    "tree.ajoutContenu(4)\n",
    "tree.ajoutContenu(7)\n",
    "\n",
    "tree.ajoutContenu(10)\n",
    "tree.ajoutContenu(14)\n",
    "tree.ajoutContenu(13)\n",
    "\n",
    "print(tree.taille())\n",
    "\n"
   ]
  },
  {
   "cell_type": "markdown",
   "id": "7eb73e8c",
   "metadata": {},
   "source": [
    "---"
   ]
  },
  {
   "cell_type": "markdown",
   "id": "db2fa192",
   "metadata": {},
   "source": [
    "### Exercice 5 (Calcul de la hauteur d’un arbre) "
   ]
  },
  {
   "cell_type": "markdown",
   "id": "f0969d9a",
   "metadata": {},
   "source": [
    "**1 - Écrire une fonction hauteur(arbre) permettant de donner la hauteur d’un arbre binaire.** Utilisez la récursivité. \n",
    "\n",
    "*Rappel : la hauteur d’un arbre est la longueur de la plus longue des branches, de la racine jusqu'à la feuille. Ce paramètre est appelé la profondeur.*\n",
    "\n",
    "Un peu d’aide : encore une fois cela va être une fonction récursive. L'idée ici est de demander aux sous arbres leurs hauteur, et de retourner au dessus le max des 2, plus 1 pour s'ajouter à cette hauteur.\n",
    "\n",
    "Voici ce que la fonction doit faire :\n",
    "+ Si il y a un fils Gauche, on relance la fonction sur le sous-arbre Gauche (récursion) pour récupérer sa hauteur\n",
    "+ Si il y a un fils Droit, on relance la fonction sur le sous-arbre Droit (récursion) pour récupérer sa hauteur\n",
    "+ Retourner le max des hauteurs des sous-arbres (si il existent)* + 1 *(taille du nœud courant)\n",
    "\n"
   ]
  },
  {
   "cell_type": "markdown",
   "id": "fd4d8a4d",
   "metadata": {},
   "source": [
    "***Votre réponse ci-dessous :***\n"
   ]
  },
  {
   "cell_type": "code",
   "execution_count": 19,
   "id": "981192ae",
   "metadata": {},
   "outputs": [],
   "source": [
    "# Votre réponse ci-dessous :\n",
    "\n",
    "def hauteur(arbre):\n",
    "    if arbre is None:\n",
    "        return 0\n",
    "\n",
    "    else:\n",
    "        gauche = arbre.filsGauche.hauteur() if arbre.filsGauche is not None else 0\n",
    "        droit = arbre.filsDroit.hauteur() if arbre.filsDroit is not None else 0\n",
    "    \n",
    "    return  max(gauche, droit)"
   ]
  },
  {
   "cell_type": "markdown",
   "id": "55625010",
   "metadata": {},
   "source": [
    "**2 - Tester votre fonction sur l’arbre binaire précédent (issu de Wikipedia).** \n",
    "\n",
    "Vous devriez trouver 4 comme réponse."
   ]
  },
  {
   "cell_type": "code",
   "execution_count": 27,
   "id": "7411bf9d",
   "metadata": {},
   "outputs": [
    {
     "name": "stdout",
     "output_type": "stream",
     "text": [
      "4\n"
     ]
    }
   ],
   "source": [
    "# Votre réponse ci-dessous (test de la fonction)\n",
    "\n",
    "class ArbreBinaire:\n",
    "    def __init__(self, valeur):\n",
    "        self.contenu = valeur\n",
    "        self.filsGauche = None\n",
    "        self.filsDroit = None\n",
    "    \n",
    "    def ajoutFilsGauche(self, valeur):\n",
    "      if self.filsGauche is None:\n",
    "         self.filsGauche = ArbreBinaire(valeur)  \n",
    "      else :\n",
    "        self.filsGauche.ajoutFilsGauche(valeur)\n",
    "\n",
    "    def ajoutFilsDroit(self, valeur):\n",
    "        if self.filsDroit is None:\n",
    "          self.filsDroit = ArbreBinaire(valeur)\n",
    "        else :\n",
    "         self.filsDroit.ajoutFilsDroit(valeur)\n",
    "    \n",
    "    def ajoutContenu(self, valeur):\n",
    "        if valeur > self.contenu:\n",
    "          if self.filsDroit is None:\n",
    "            self.ajoutFilsDroit(valeur)\n",
    "          else:\n",
    "            self.filsDroit.ajoutContenu(valeur)\n",
    "        \n",
    "        elif valeur < self.contenu:\n",
    "          if self.filsGauche is None:\n",
    "           self.ajoutFilsGauche(valeur)\n",
    "          else:\n",
    "            self.filsGauche.ajoutContenu(valeur)\n",
    "    \n",
    "    def hauteur(self):\n",
    "        if self is None:\n",
    "            return 0\n",
    "\n",
    "        else:\n",
    "            #idem que la taille sauf qu'au lieu d'additioner gauche et droite, on prend le côté le plus \"profond\"\n",
    "            gauche = self.filsGauche.hauteur() if self.filsGauche is not None else 0\n",
    "            droit = self.filsDroit.hauteur() if self.filsDroit is not None else 0\n",
    "        \n",
    "        #noeud actuel + max entre gauche et droite\n",
    "        return max(gauche, droit)+1\n",
    "            \n",
    "    def __str__(self):\n",
    "     return f\"[Contenu : {self.contenu} | Fils droit : {self.filsDroit.__str__()} | Fils gauche : {self.filsGauche.__str__()}] / \"\n",
    "\n",
    "\n",
    "tree = ArbreBinaire(8)\n",
    "\n",
    "tree.ajoutContenu(3)\n",
    "tree.ajoutContenu(1)\n",
    "tree.ajoutContenu(6)\n",
    "tree.ajoutContenu(4)\n",
    "tree.ajoutContenu(7)\n",
    "\n",
    "tree.ajoutContenu(10)\n",
    "tree.ajoutContenu(14)\n",
    "tree.ajoutContenu(13)\n",
    "\n",
    "print(tree.hauteur())\n",
    "\n",
    "\n"
   ]
  },
  {
   "cell_type": "markdown",
   "id": "693c39a6",
   "metadata": {},
   "source": [
    "---\n"
   ]
  },
  {
   "cell_type": "markdown",
   "id": "9bd78032",
   "metadata": {},
   "source": [
    "### Exercice 6 (fonction appartient)   "
   ]
  },
  {
   "cell_type": "markdown",
   "id": "5ab5dcff",
   "metadata": {},
   "source": [
    "**1 - Écrire une fonction appartient(x,arbre) permettant de déterminer si la valeur x appartient à l’arbre arbre.** \n"
   ]
  },
  {
   "cell_type": "code",
   "execution_count": 46,
   "id": "998d5b53",
   "metadata": {},
   "outputs": [],
   "source": [
    "# Votre réponse ci-dessous :\n",
    "\n",
    "def appartient(x, arbre):\n",
    "    if arbre is None:\n",
    "        return False\n",
    "    \n",
    "    elif arbre.valeur == x:\n",
    "        return True\n",
    "    \n",
    "    gauche = appartient(x, arbre.filsGauche)\n",
    "    droit = appartient(x, arbre.filsDroit)\n",
    "\n",
    "    return gauche or droit"
   ]
  },
  {
   "cell_type": "markdown",
   "id": "b21550bc",
   "metadata": {},
   "source": [
    "**2 - Tester votre fonction :** "
   ]
  },
  {
   "cell_type": "code",
   "execution_count": 48,
   "id": "67226cff",
   "metadata": {},
   "outputs": [
    {
     "name": "stdout",
     "output_type": "stream",
     "text": [
      "True\n"
     ]
    }
   ],
   "source": [
    "# Votre réponse ci-dessous (test de la fonction)\n",
    "\n",
    "class ArbreBinaire:\n",
    "    def __init__(self, valeur):\n",
    "        self.contenu = valeur\n",
    "        self.filsGauche = None\n",
    "        self.filsDroit = None\n",
    "    \n",
    "    def ajoutFilsGauche(self, valeur):\n",
    "      if self.filsGauche is None:\n",
    "         self.filsGauche = ArbreBinaire(valeur)  \n",
    "      else :\n",
    "        self.filsGauche.ajoutFilsGauche(valeur)\n",
    "\n",
    "    def ajoutFilsDroit(self, valeur):\n",
    "        if self.filsDroit is None:\n",
    "          self.filsDroit = ArbreBinaire(valeur)\n",
    "        else :\n",
    "         self.filsDroit.ajoutFilsDroit(valeur)\n",
    "    \n",
    "    def ajoutContenu(self, valeur):\n",
    "        if valeur > self.contenu:\n",
    "          if self.filsDroit is None:\n",
    "            self.ajoutFilsDroit(valeur)\n",
    "          else:\n",
    "            self.filsDroit.ajoutContenu(valeur)\n",
    "        \n",
    "        elif valeur < self.contenu:\n",
    "          if self.filsGauche is None:\n",
    "           self.ajoutFilsGauche(valeur)\n",
    "          else:\n",
    "            self.filsGauche.ajoutContenu(valeur)\n",
    "    \n",
    "    #presque pareil que exo 4 et 5\n",
    "    def appartient(self, x):\n",
    "        if self is None:\n",
    "            return False\n",
    "        \n",
    "        #vérifier si noeud est égal à x\n",
    "        elif self.contenu == x:\n",
    "            return True\n",
    "        \n",
    "        #récursivité\n",
    "        gauche = self.filsGauche.appartient(x) if self.filsGauche is not None else False\n",
    "        droit = self.filsDroit.appartient(x) if self.filsDroit is not None else False\n",
    "\n",
    "        #Si il y a un True dans Gauche ou Droit. Retourner True, sinon False.\n",
    "        return gauche or droit\n",
    "            \n",
    "    def __str__(self):\n",
    "     return f\"[Contenu : {self.contenu} | Fils droit : {self.filsDroit.__str__()} | Fils gauche : {self.filsGauche.__str__()}] / \"\n",
    "\n",
    "\n",
    "tree = ArbreBinaire(8)\n",
    "\n",
    "tree.ajoutContenu(3)\n",
    "tree.ajoutContenu(1)\n",
    "tree.ajoutContenu(6)\n",
    "tree.ajoutContenu(4)\n",
    "tree.ajoutContenu(7)\n",
    "\n",
    "tree.ajoutContenu(10)\n",
    "tree.ajoutContenu(14)\n",
    "tree.ajoutContenu(13)\n",
    "\n",
    "print(tree.appartient(14))\n",
    "\n",
    "\n",
    "\n",
    "\n"
   ]
  },
  {
   "cell_type": "markdown",
   "id": "f61fd072",
   "metadata": {},
   "source": [
    "---"
   ]
  },
  {
   "cell_type": "markdown",
   "id": "7358b1ca",
   "metadata": {},
   "source": [
    "| <span style='color:Blue'> L.HELIN |  | |   | |     |<span style='color:Blue'> NSI Terminale | |   | ||<span style='color:Blue'> Lycée Ozanam (Lille) & Lycée NDPO (Orchies)|\n",
    "| --- | --- |--- |--- |--- |--- | --- | --- |--- |--- | --- | --- |"
   ]
  }
 ],
 "metadata": {
  "kernelspec": {
   "display_name": "Python 3 (ipykernel)",
   "language": "python",
   "name": "python3"
  },
  "language_info": {
   "codemirror_mode": {
    "name": "ipython",
    "version": 3
   },
   "file_extension": ".py",
   "mimetype": "text/x-python",
   "name": "python",
   "nbconvert_exporter": "python",
   "pygments_lexer": "ipython3",
   "version": "3.10.13"
  }
 },
 "nbformat": 4,
 "nbformat_minor": 5
}
